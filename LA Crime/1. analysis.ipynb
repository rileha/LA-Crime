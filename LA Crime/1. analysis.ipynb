{
 "cells": [
  {
   "cell_type": "code",
   "execution_count": 60,
   "metadata": {},
   "outputs": [
    {
     "name": "stderr",
     "output_type": "stream",
     "text": [
      "C:\\Users\\Brookes Hire\\AppData\\Local\\Temp\\ipykernel_14876\\2027195599.py:6: UserWarning: Could not infer format, so each element will be parsed individually, falling back to `dateutil`. To ensure parsing is consistent and as-expected, please specify a format.\n",
      "  crimes = pd.read_csv(\"Crimes.csv\", parse_dates=[\"Date Rptd\", \"DATE OCC\"], dtype={\"TIME OCC\": str})\n",
      "C:\\Users\\Brookes Hire\\AppData\\Local\\Temp\\ipykernel_14876\\2027195599.py:6: UserWarning: Could not infer format, so each element will be parsed individually, falling back to `dateutil`. To ensure parsing is consistent and as-expected, please specify a format.\n",
      "  crimes = pd.read_csv(\"Crimes.csv\", parse_dates=[\"Date Rptd\", \"DATE OCC\"], dtype={\"TIME OCC\": str})\n"
     ]
    }
   ],
   "source": [
    "import pandas as pd\n",
    "import numpy as np\n",
    "import matplotlib.pyplot as plt\n",
    "import seaborn as sns\n",
    "\n",
    "crimes = pd.read_csv(\"Crimes.csv\", parse_dates=[\"Date Rptd\", \"DATE OCC\"], dtype={\"TIME OCC\": str})\n"
   ]
  },
  {
   "cell_type": "code",
   "execution_count": 61,
   "metadata": {},
   "outputs": [
    {
     "name": "stdout",
     "output_type": "stream",
     "text": [
      "<class 'pandas.core.frame.DataFrame'>\n",
      "RangeIndex: 196682 entries, 0 to 196681\n",
      "Data columns (total 28 columns):\n",
      " #   Column          Non-Null Count   Dtype         \n",
      "---  ------          --------------   -----         \n",
      " 0   DR_NO           196682 non-null  int64         \n",
      " 1   Date Rptd       196682 non-null  datetime64[ns]\n",
      " 2   DATE OCC        196682 non-null  datetime64[ns]\n",
      " 3   TIME OCC        196682 non-null  object        \n",
      " 4   AREA            196682 non-null  int64         \n",
      " 5   AREA NAME       196682 non-null  object        \n",
      " 6   Rpt Dist No     196682 non-null  int64         \n",
      " 7   Part 1-2        196682 non-null  int64         \n",
      " 8   Crm Cd          196682 non-null  int64         \n",
      " 9   Crm Cd Desc     196682 non-null  object        \n",
      " 10  Mocodes         168893 non-null  object        \n",
      " 11  Vict Age        196682 non-null  int64         \n",
      " 12  Vict Sex        170111 non-null  object        \n",
      " 13  Vict Descent    170107 non-null  object        \n",
      " 14  Premis Cd       196679 non-null  float64       \n",
      " 15  Premis Desc     196607 non-null  object        \n",
      " 16  Weapon Used Cd  71459 non-null   float64       \n",
      " 17  Weapon Desc     71459 non-null   object        \n",
      " 18  Status          196682 non-null  object        \n",
      " 19  Status Desc     196682 non-null  object        \n",
      " 20  Crm Cd 1        196681 non-null  float64       \n",
      " 21  Crm Cd 2        16295 non-null   float64       \n",
      " 22  Crm Cd 3        576 non-null     float64       \n",
      " 23  Crm Cd 4        17 non-null      float64       \n",
      " 24  LOCATION        196682 non-null  object        \n",
      " 25  Cross Street    35198 non-null   object        \n",
      " 26  LAT             196682 non-null  float64       \n",
      " 27  LON             196682 non-null  float64       \n",
      "dtypes: datetime64[ns](2), float64(8), int64(6), object(12)\n",
      "memory usage: 42.0+ MB\n"
     ]
    }
   ],
   "source": [
    "crimes.info()"
   ]
  },
  {
   "cell_type": "code",
   "execution_count": 62,
   "metadata": {},
   "outputs": [
    {
     "data": {
      "text/plain": [
       "0         2030\n",
       "1         1610\n",
       "2         1346\n",
       "3         1330\n",
       "4         1920\n",
       "          ... \n",
       "196677    1500\n",
       "196678    1040\n",
       "196679    1230\n",
       "196680    1900\n",
       "196681     550\n",
       "Name: TIME OCC, Length: 196682, dtype: object"
      ]
     },
     "execution_count": 62,
     "metadata": {},
     "output_type": "execute_result"
    }
   ],
   "source": [
    "crimes['TIME OCC'].dropna()"
   ]
  },
  {
   "cell_type": "code",
   "execution_count": 63,
   "metadata": {},
   "outputs": [
    {
     "data": {
      "text/plain": [
       "0         20\n",
       "1         16\n",
       "2         13\n",
       "3         13\n",
       "4         19\n",
       "          ..\n",
       "196677    15\n",
       "196678    10\n",
       "196679    12\n",
       "196680    19\n",
       "196681     5\n",
       "Name: HOUR OCC, Length: 196682, dtype: object"
      ]
     },
     "execution_count": 63,
     "metadata": {},
     "output_type": "execute_result"
    }
   ],
   "source": [
    "crimes[\"HOUR OCC\"] = crimes[\"TIME OCC\"].apply(lambda x: str(x)[:-2])\n",
    "crimes['HOUR OCC']"
   ]
  },
  {
   "cell_type": "code",
   "execution_count": 64,
   "metadata": {},
   "outputs": [
    {
     "data": {
      "text/html": [
       "<div>\n",
       "<style scoped>\n",
       "    .dataframe tbody tr th:only-of-type {\n",
       "        vertical-align: middle;\n",
       "    }\n",
       "\n",
       "    .dataframe tbody tr th {\n",
       "        vertical-align: top;\n",
       "    }\n",
       "\n",
       "    .dataframe thead th {\n",
       "        text-align: right;\n",
       "    }\n",
       "</style>\n",
       "<table border=\"1\" class=\"dataframe\">\n",
       "  <thead>\n",
       "    <tr style=\"text-align: right;\">\n",
       "      <th></th>\n",
       "      <th>DR_NO</th>\n",
       "      <th>Date Rptd</th>\n",
       "      <th>DATE OCC</th>\n",
       "      <th>TIME OCC</th>\n",
       "      <th>AREA</th>\n",
       "      <th>AREA NAME</th>\n",
       "      <th>Rpt Dist No</th>\n",
       "      <th>Part 1-2</th>\n",
       "      <th>Crm Cd</th>\n",
       "      <th>Crm Cd Desc</th>\n",
       "      <th>...</th>\n",
       "      <th>Status Desc</th>\n",
       "      <th>Crm Cd 1</th>\n",
       "      <th>Crm Cd 2</th>\n",
       "      <th>Crm Cd 3</th>\n",
       "      <th>Crm Cd 4</th>\n",
       "      <th>LOCATION</th>\n",
       "      <th>Cross Street</th>\n",
       "      <th>LAT</th>\n",
       "      <th>LON</th>\n",
       "      <th>HOUR OCC</th>\n",
       "    </tr>\n",
       "  </thead>\n",
       "  <tbody>\n",
       "    <tr>\n",
       "      <th>0</th>\n",
       "      <td>231909660</td>\n",
       "      <td>2023-05-23</td>\n",
       "      <td>2020-05-23</td>\n",
       "      <td>2030</td>\n",
       "      <td>19</td>\n",
       "      <td>Mission</td>\n",
       "      <td>1934</td>\n",
       "      <td>2</td>\n",
       "      <td>354</td>\n",
       "      <td>THEFT OF IDENTITY</td>\n",
       "      <td>...</td>\n",
       "      <td>Invest Cont</td>\n",
       "      <td>354.0</td>\n",
       "      <td>NaN</td>\n",
       "      <td>NaN</td>\n",
       "      <td>NaN</td>\n",
       "      <td>11100    ORION                        AV</td>\n",
       "      <td>NaN</td>\n",
       "      <td>34.2718</td>\n",
       "      <td>-118.4715</td>\n",
       "      <td>20</td>\n",
       "    </tr>\n",
       "    <tr>\n",
       "      <th>1</th>\n",
       "      <td>201811570</td>\n",
       "      <td>2020-05-23</td>\n",
       "      <td>2020-05-23</td>\n",
       "      <td>1610</td>\n",
       "      <td>18</td>\n",
       "      <td>Southeast</td>\n",
       "      <td>1801</td>\n",
       "      <td>2</td>\n",
       "      <td>624</td>\n",
       "      <td>BATTERY - SIMPLE ASSAULT</td>\n",
       "      <td>...</td>\n",
       "      <td>Adult Arrest</td>\n",
       "      <td>624.0</td>\n",
       "      <td>NaN</td>\n",
       "      <td>NaN</td>\n",
       "      <td>NaN</td>\n",
       "      <td>MANCHESTER                   AV</td>\n",
       "      <td>MAIN                         ST</td>\n",
       "      <td>33.9555</td>\n",
       "      <td>-118.2871</td>\n",
       "      <td>16</td>\n",
       "    </tr>\n",
       "    <tr>\n",
       "      <th>2</th>\n",
       "      <td>201311277</td>\n",
       "      <td>2020-05-23</td>\n",
       "      <td>2020-05-23</td>\n",
       "      <td>1346</td>\n",
       "      <td>13</td>\n",
       "      <td>Newton</td>\n",
       "      <td>1362</td>\n",
       "      <td>1</td>\n",
       "      <td>230</td>\n",
       "      <td>ASSAULT WITH DEADLY WEAPON, AGGRAVATED ASSAULT</td>\n",
       "      <td>...</td>\n",
       "      <td>Invest Cont</td>\n",
       "      <td>230.0</td>\n",
       "      <td>998.0</td>\n",
       "      <td>NaN</td>\n",
       "      <td>NaN</td>\n",
       "      <td>4900 S  SAN PEDRO                    ST</td>\n",
       "      <td>NaN</td>\n",
       "      <td>33.9985</td>\n",
       "      <td>-118.2696</td>\n",
       "      <td>13</td>\n",
       "    </tr>\n",
       "    <tr>\n",
       "      <th>3</th>\n",
       "      <td>200710724</td>\n",
       "      <td>2020-06-19</td>\n",
       "      <td>2020-05-23</td>\n",
       "      <td>1330</td>\n",
       "      <td>7</td>\n",
       "      <td>Wilshire</td>\n",
       "      <td>705</td>\n",
       "      <td>1</td>\n",
       "      <td>310</td>\n",
       "      <td>BURGLARY</td>\n",
       "      <td>...</td>\n",
       "      <td>Invest Cont</td>\n",
       "      <td>310.0</td>\n",
       "      <td>NaN</td>\n",
       "      <td>NaN</td>\n",
       "      <td>NaN</td>\n",
       "      <td>600 N  ALTA VISTA                   BL</td>\n",
       "      <td>NaN</td>\n",
       "      <td>34.0819</td>\n",
       "      <td>-118.3474</td>\n",
       "      <td>13</td>\n",
       "    </tr>\n",
       "    <tr>\n",
       "      <th>4</th>\n",
       "      <td>200709574</td>\n",
       "      <td>2020-05-23</td>\n",
       "      <td>2020-05-23</td>\n",
       "      <td>1920</td>\n",
       "      <td>7</td>\n",
       "      <td>Wilshire</td>\n",
       "      <td>732</td>\n",
       "      <td>1</td>\n",
       "      <td>210</td>\n",
       "      <td>ROBBERY</td>\n",
       "      <td>...</td>\n",
       "      <td>Adult Arrest</td>\n",
       "      <td>210.0</td>\n",
       "      <td>NaN</td>\n",
       "      <td>NaN</td>\n",
       "      <td>NaN</td>\n",
       "      <td>6100    WILSHIRE                     BL</td>\n",
       "      <td>NaN</td>\n",
       "      <td>34.0665</td>\n",
       "      <td>-118.3662</td>\n",
       "      <td>19</td>\n",
       "    </tr>\n",
       "  </tbody>\n",
       "</table>\n",
       "<p>5 rows × 29 columns</p>\n",
       "</div>"
      ],
      "text/plain": [
       "       DR_NO  Date Rptd   DATE OCC TIME OCC  AREA  AREA NAME  Rpt Dist No  \\\n",
       "0  231909660 2023-05-23 2020-05-23     2030    19    Mission         1934   \n",
       "1  201811570 2020-05-23 2020-05-23     1610    18  Southeast         1801   \n",
       "2  201311277 2020-05-23 2020-05-23     1346    13     Newton         1362   \n",
       "3  200710724 2020-06-19 2020-05-23     1330     7   Wilshire          705   \n",
       "4  200709574 2020-05-23 2020-05-23     1920     7   Wilshire          732   \n",
       "\n",
       "   Part 1-2  Crm Cd                                     Crm Cd Desc  ...  \\\n",
       "0         2     354                               THEFT OF IDENTITY  ...   \n",
       "1         2     624                        BATTERY - SIMPLE ASSAULT  ...   \n",
       "2         1     230  ASSAULT WITH DEADLY WEAPON, AGGRAVATED ASSAULT  ...   \n",
       "3         1     310                                        BURGLARY  ...   \n",
       "4         1     210                                         ROBBERY  ...   \n",
       "\n",
       "    Status Desc  Crm Cd 1 Crm Cd 2 Crm Cd 3  Crm Cd 4  \\\n",
       "0   Invest Cont     354.0      NaN      NaN       NaN   \n",
       "1  Adult Arrest     624.0      NaN      NaN       NaN   \n",
       "2   Invest Cont     230.0    998.0      NaN       NaN   \n",
       "3   Invest Cont     310.0      NaN      NaN       NaN   \n",
       "4  Adult Arrest     210.0      NaN      NaN       NaN   \n",
       "\n",
       "                                   LOCATION                     Cross Street  \\\n",
       "0  11100    ORION                        AV                              NaN   \n",
       "1           MANCHESTER                   AV  MAIN                         ST   \n",
       "2   4900 S  SAN PEDRO                    ST                              NaN   \n",
       "3    600 N  ALTA VISTA                   BL                              NaN   \n",
       "4   6100    WILSHIRE                     BL                              NaN   \n",
       "\n",
       "       LAT       LON HOUR OCC  \n",
       "0  34.2718 -118.4715       20  \n",
       "1  33.9555 -118.2871       16  \n",
       "2  33.9985 -118.2696       13  \n",
       "3  34.0819 -118.3474       13  \n",
       "4  34.0665 -118.3662       19  \n",
       "\n",
       "[5 rows x 29 columns]"
      ]
     },
     "execution_count": 64,
     "metadata": {},
     "output_type": "execute_result"
    }
   ],
   "source": [
    "crimes.head()"
   ]
  },
  {
   "cell_type": "code",
   "execution_count": 65,
   "metadata": {},
   "outputs": [
    {
     "data": {
      "text/plain": [
       "array(['20', '16', '13', '19', '17', '7', '8', '15', '12', '9', '6', '',\n",
       "       '10', '2', '11', '21', '1', '4', '14', '18', '3', '22', '23', '5'],\n",
       "      dtype=object)"
      ]
     },
     "execution_count": 65,
     "metadata": {},
     "output_type": "execute_result"
    }
   ],
   "source": [
    "crimes[\"HOUR OCC\"].unique()"
   ]
  },
  {
   "cell_type": "code",
   "execution_count": 66,
   "metadata": {},
   "outputs": [
    {
     "data": {
      "text/plain": [
       "array(['20', '16', '13', '19', '17', '7', '8', '15', '12', '9', '6', '0',\n",
       "       '10', '2', '11', '21', '1', '4', '14', '18', '3', '22', '23', '5'],\n",
       "      dtype=object)"
      ]
     },
     "execution_count": 66,
     "metadata": {},
     "output_type": "execute_result"
    }
   ],
   "source": [
    "crimes['HOUR OCC'] = crimes['HOUR OCC'].replace('','0')\n",
    "crimes[\"HOUR OCC\"].unique()"
   ]
  },
  {
   "cell_type": "code",
   "execution_count": 67,
   "metadata": {},
   "outputs": [
    {
     "data": {
      "image/png": "[encoded data removed]",
      "text/plain": [
       "<Figure size 2000x1000 with 1 Axes>"
      ]
     },
     "metadata": {},
     "output_type": "display_data"
    }
   ],
   "source": [
    "crimes['HOUR OCC'] = crimes['HOUR OCC'].astype(int).sort_values()\n",
    "plt.figure(figsize = (20,10))\n",
    "sns.countplot(data=crimes, x=\"HOUR OCC\")\n",
    "plt.show()"
   ]
  },
  {
   "cell_type": "code",
   "execution_count": 68,
   "metadata": {},
   "outputs": [],
   "source": [
    "peak_crime_hour = 12"
   ]
  },
  {
   "cell_type": "markdown",
   "metadata": {},
   "source": [
    "We can see from the Vizualization above that the largest volume of crime occurs at Midday."
   ]
  },
  {
   "cell_type": "code",
   "execution_count": 69,
   "metadata": {},
   "outputs": [],
   "source": [
    "night_time = crimes[crimes[\"HOUR OCC\"].isin([22,23,0,1,2,3])]\n"
   ]
  },
  {
   "cell_type": "code",
   "execution_count": 70,
   "metadata": {},
   "outputs": [
    {
     "name": "stdout",
     "output_type": "stream",
     "text": [
      "The area with the largest volume of night crime is 77th Street.\n"
     ]
    }
   ],
   "source": [
    "# Group by \"AREA NAME\" and count occurrences, filtering for the largest value and saving the \"AREA NAME\"\n",
    "peak_night_crime_location = night_time.groupby(\"AREA NAME\", \n",
    "                                               as_index=False)[\"HOUR OCC\"].count().sort_values(\"HOUR OCC\",\n",
    "                                                                                               ascending=False).iloc[0][\"AREA NAME\"]\n",
    "# Print the peak night crime location\n",
    "print(f\"The area with the largest volume of night crime is {peak_night_crime_location}.\")"
   ]
  },
  {
   "cell_type": "code",
   "execution_count": 71,
   "metadata": {},
   "outputs": [],
   "source": [
    "age_bins = [0, 17, 25, 34, 44, 54, 64, np.inf]\n",
    "age_labels = [\"0-17\", \"18-25\", \"26-34\", \"35-44\", \"45-54\", \"55-64\", \"65+\"]"
   ]
  },
  {
   "cell_type": "code",
   "execution_count": 72,
   "metadata": {},
   "outputs": [],
   "source": [
    "\n",
    "# Add a new column using pd.cut() to bin values into discrete intervals\n",
    "crimes[\"Age Bracket\"] = pd.cut(crimes[\"Vict Age\"],\n",
    "                               bins=age_bins,\n",
    "                               labels=age_labels)"
   ]
  },
  {
   "cell_type": "code",
   "execution_count": 73,
   "metadata": {},
   "outputs": [
    {
     "name": "stdout",
     "output_type": "stream",
     "text": [
      "Age Bracket\n",
      "26-34    37324\n",
      "35-44    32539\n",
      "45-54    23535\n",
      "18-25    22304\n",
      "55-64    16896\n",
      "65+      10760\n",
      "0-17      4548\n",
      "Name: count, dtype: int64\n"
     ]
    }
   ],
   "source": [
    "# Find the category with the largest frequency\n",
    "victim_ages = crimes[\"Age Bracket\"].value_counts()\n",
    "print(victim_ages)"
   ]
  },
  {
   "cell_type": "markdown",
   "metadata": {},
   "source": [
    "Shows the victim age category with the largest frequency."
   ]
  }
 ],
 "metadata": {
  "kernelspec": {
   "display_name": "Python 3",
   "language": "python",
   "name": "python3"
  },
  "language_info": {
   "codemirror_mode": {
    "name": "ipython",
    "version": 3
   },
   "file_extension": ".py",
   "mimetype": "text/x-python",
   "name": "python",
   "nbconvert_exporter": "python",
   "pygments_lexer": "ipython3",
   "version": "3.12.2"
  }
 },
 "nbformat": 4,
 "nbformat_minor": 2
}
